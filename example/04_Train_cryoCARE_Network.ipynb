{
 "cells": [
  {
   "cell_type": "markdown",
   "metadata": {},
   "source": [
    "# Train cryo-CARE Network\n",
    "\n",
    "In this notebook we initialize a new model and train it."
   ]
  },
  {
   "cell_type": "code",
   "execution_count": 1,
   "metadata": {},
   "outputs": [
    {
     "name": "stderr",
     "output_type": "stream",
     "text": [
      "Using TensorFlow backend.\n"
     ]
    }
   ],
   "source": [
    "from train_cryo_care import CryoCARE\n",
    "from csbdeep.models import Config\n",
    "from csbdeep.utils import plot_history\n",
    "\n",
    "import numpy as np"
   ]
  },
  {
   "cell_type": "code",
   "execution_count": 2,
   "metadata": {},
   "outputs": [
    {
     "data": {
      "text/plain": [
       "True"
      ]
     },
     "execution_count": 2,
     "metadata": {},
     "output_type": "execute_result"
    }
   ],
   "source": [
    "import tensorflow as tf\n",
    "tf.test.is_gpu_available()"
   ]
  },
  {
   "cell_type": "markdown",
   "metadata": {},
   "source": [
    "## Create Model\n",
    "\n",
    "We use the standard `CSBDeep` config."
   ]
  },
  {
   "cell_type": "code",
   "execution_count": 3,
   "metadata": {},
   "outputs": [
    {
     "data": {
      "text/plain": [
       "{'n_dim': 3,\n",
       " 'axes': 'ZYXC',\n",
       " 'n_channel_in': 1,\n",
       " 'n_channel_out': 1,\n",
       " 'train_checkpoint': 'weights_best.h5',\n",
       " 'train_checkpoint_last': 'weights_last.h5',\n",
       " 'train_checkpoint_epoch': 'weights_now.h5',\n",
       " 'probabilistic': False,\n",
       " 'unet_residual': True,\n",
       " 'unet_n_depth': 2,\n",
       " 'unet_kern_size': 3,\n",
       " 'unet_n_first': 32,\n",
       " 'unet_last_activation': 'linear',\n",
       " 'unet_input_shape': (None, None, None, 1),\n",
       " 'train_loss': 'mse',\n",
       " 'train_epochs': 200,\n",
       " 'train_steps_per_epoch': 75,\n",
       " 'train_learning_rate': 0.0004,\n",
       " 'train_batch_size': 16,\n",
       " 'train_tensorboard': True,\n",
       " 'train_reduce_lr': {'factor': 0.5, 'patience': 10, 'min_delta': 0}}"
      ]
     },
     "execution_count": 3,
     "metadata": {},
     "output_type": "execute_result"
    }
   ],
   "source": [
    "# We set the 'train_steps_per_epoch' to 75. This way \n",
    "# 'train_steps_per_epoch' * 'train_batch_size' = 'num_train_volumes'\n",
    "# 75 * 16 = 1200\n",
    "conf = Config(axes='ZYX', train_loss='mse', train_epochs=200, train_steps_per_epoch=75)\n",
    "vars(conf)"
   ]
  },
  {
   "cell_type": "code",
   "execution_count": 5,
   "metadata": {},
   "outputs": [
    {
     "name": "stdout",
     "output_type": "stream",
     "text": [
      "WARNING:tensorflow:From /opt/psi/Programming/anaconda/2019.07/conda/envs/cryocare/lib/python3.7/site-packages/tensorflow_core/python/ops/resource_variable_ops.py:1630: calling BaseResourceVariable.__init__ (from tensorflow.python.ops.resource_variable_ops) with constraint is deprecated and will be removed in a future version.\n",
      "Instructions for updating:\n",
      "If using Keras pass *_constraint arguments to layers.\n"
     ]
    }
   ],
   "source": [
    "# The `CryoCARE` model has a data-augmentation built in, which rotates the patches randomly by 90 degrees\n",
    "# about the Y-Axis\n",
    "model = CryoCARE(conf, 'Tomo110_model', basedir='data/Tomo110/')"
   ]
  },
  {
   "cell_type": "markdown",
   "metadata": {},
   "source": [
    "## Load Train/Validation Data"
   ]
  },
  {
   "cell_type": "code",
   "execution_count": 7,
   "metadata": {},
   "outputs": [],
   "source": [
    "data = np.load('data/Tomo110/train_data/train_data.npz')"
   ]
  },
  {
   "cell_type": "code",
   "execution_count": 8,
   "metadata": {},
   "outputs": [],
   "source": [
    "X = data['X']\n",
    "Y = data['Y']\n",
    "X_val = data['X_val']\n",
    "Y_val = data['Y_val']"
   ]
  },
  {
   "cell_type": "markdown",
   "metadata": {},
   "source": [
    "## Train Model"
   ]
  },
  {
   "cell_type": "code",
   "execution_count": 9,
   "metadata": {
    "scrolled": true
   },
   "outputs": [
    {
     "name": "stdout",
     "output_type": "stream",
     "text": [
      "WARNING:tensorflow:From /opt/psi/Programming/anaconda/2019.07/conda/envs/cryocare/lib/python3.7/site-packages/keras/backend/tensorflow_backend.py:422: The name tf.global_variables is deprecated. Please use tf.compat.v1.global_variables instead.\n",
      "\n",
      "WARNING:tensorflow:\n",
      "The TensorFlow contrib module will not be included in TensorFlow 2.0.\n",
      "For more information, please see:\n",
      "  * https://github.com/tensorflow/community/blob/master/rfcs/20180907-contrib-sunset.md\n",
      "  * https://github.com/tensorflow/addons\n",
      "  * https://github.com/tensorflow/io (for I/O related ops)\n",
      "If you depend on functionality not listed there, please file an issue.\n",
      "\n",
      "WARNING:tensorflow:From /opt/psi/Programming/anaconda/2019.07/conda/envs/cryocare/lib/python3.7/site-packages/csbdeep/utils/tf.py:240: The name tf.summary.image is deprecated. Please use tf.compat.v1.summary.image instead.\n",
      "\n",
      "WARNING:tensorflow:From /opt/psi/Programming/anaconda/2019.07/conda/envs/cryocare/lib/python3.7/site-packages/csbdeep/utils/tf.py:268: The name tf.summary.merge is deprecated. Please use tf.compat.v1.summary.merge instead.\n",
      "\n",
      "WARNING:tensorflow:From /opt/psi/Programming/anaconda/2019.07/conda/envs/cryocare/lib/python3.7/site-packages/csbdeep/utils/tf.py:275: The name tf.summary.FileWriter is deprecated. Please use tf.compat.v1.summary.FileWriter instead.\n",
      "\n",
      "Epoch 1/200\n",
      "75/75 [==============================] - 90s 1s/step - loss: 1.1349 - mse: 1.1349 - mae: 0.8400 - val_loss: 1.0067 - val_mse: 1.0067 - val_mae: 0.7978\n",
      "WARNING:tensorflow:From /opt/psi/Programming/anaconda/2019.07/conda/envs/cryocare/lib/python3.7/site-packages/csbdeep/utils/tf.py:303: The name tf.Summary is deprecated. Please use tf.compat.v1.Summary instead.\n",
      "\n",
      "Epoch 2/200\n",
      "75/75 [==============================] - 68s 903ms/step - loss: 0.9937 - mse: 0.9937 - mae: 0.7893 - val_loss: 0.9804 - val_mse: 0.9804 - val_mae: 0.7875\n",
      "Epoch 3/200\n",
      "75/75 [==============================] - 68s 903ms/step - loss: 0.9779 - mse: 0.9779 - mae: 0.7832 - val_loss: 0.9710 - val_mse: 0.9710 - val_mae: 0.7839\n",
      "Epoch 4/200\n",
      "75/75 [==============================] - 68s 903ms/step - loss: 0.9697 - mse: 0.9697 - mae: 0.7800 - val_loss: 0.9655 - val_mse: 0.9655 - val_mae: 0.7817\n",
      "Epoch 5/200\n",
      "75/75 [==============================] - 68s 903ms/step - loss: 0.9640 - mse: 0.9640 - mae: 0.7778 - val_loss: 0.9629 - val_mse: 0.9629 - val_mae: 0.7806\n",
      "Epoch 6/200\n",
      "75/75 [==============================] - 68s 903ms/step - loss: 0.9620 - mse: 0.9620 - mae: 0.7770 - val_loss: 0.9637 - val_mse: 0.9637 - val_mae: 0.7810\n",
      "Epoch 7/200\n",
      "75/75 [==============================] - 68s 904ms/step - loss: 0.9602 - mse: 0.9602 - mae: 0.7764 - val_loss: 0.9604 - val_mse: 0.9604 - val_mae: 0.7796\n",
      "Epoch 8/200\n",
      "75/75 [==============================] - 68s 904ms/step - loss: 0.9594 - mse: 0.9594 - mae: 0.7760 - val_loss: 0.9605 - val_mse: 0.9605 - val_mae: 0.7796\n",
      "Epoch 9/200\n",
      "75/75 [==============================] - 68s 903ms/step - loss: 0.9580 - mse: 0.9580 - mae: 0.7755 - val_loss: 0.9586 - val_mse: 0.9586 - val_mae: 0.7788\n",
      "Epoch 10/200\n",
      "75/75 [==============================] - 68s 904ms/step - loss: 0.9580 - mse: 0.9580 - mae: 0.7755 - val_loss: 0.9633 - val_mse: 0.9633 - val_mae: 0.7808\n",
      "Epoch 11/200\n",
      "75/75 [==============================] - 68s 905ms/step - loss: 0.9569 - mse: 0.9569 - mae: 0.7750 - val_loss: 0.9573 - val_mse: 0.9573 - val_mae: 0.7783\n",
      "Epoch 12/200\n",
      "75/75 [==============================] - 68s 904ms/step - loss: 0.9565 - mse: 0.9565 - mae: 0.7749 - val_loss: 0.9585 - val_mse: 0.9585 - val_mae: 0.7787\n",
      "Epoch 13/200\n",
      "75/75 [==============================] - 68s 904ms/step - loss: 0.9557 - mse: 0.9557 - mae: 0.7746 - val_loss: 0.9595 - val_mse: 0.9595 - val_mae: 0.7792\n",
      "Epoch 14/200\n",
      "75/75 [==============================] - 68s 904ms/step - loss: 0.9551 - mse: 0.9551 - mae: 0.7743 - val_loss: 0.9563 - val_mse: 0.9563 - val_mae: 0.7779\n",
      "Epoch 15/200\n",
      "75/75 [==============================] - 68s 903ms/step - loss: 0.9556 - mse: 0.9556 - mae: 0.7745 - val_loss: 0.9580 - val_mse: 0.9580 - val_mae: 0.7786\n",
      "Epoch 16/200\n",
      "75/75 [==============================] - 68s 904ms/step - loss: 0.9547 - mse: 0.9547 - mae: 0.7742 - val_loss: 0.9557 - val_mse: 0.9557 - val_mae: 0.7777\n",
      "Epoch 17/200\n",
      "75/75 [==============================] - 68s 904ms/step - loss: 0.9538 - mse: 0.9538 - mae: 0.7738 - val_loss: 0.9599 - val_mse: 0.9599 - val_mae: 0.7793\n",
      "Epoch 18/200\n",
      "75/75 [==============================] - 68s 904ms/step - loss: 0.9545 - mse: 0.9545 - mae: 0.7740 - val_loss: 0.9556 - val_mse: 0.9556 - val_mae: 0.7776\n",
      "Epoch 19/200\n",
      "75/75 [==============================] - 68s 905ms/step - loss: 0.9540 - mse: 0.9540 - mae: 0.7738 - val_loss: 0.9556 - val_mse: 0.9556 - val_mae: 0.7776\n",
      "Epoch 20/200\n",
      "75/75 [==============================] - 68s 904ms/step - loss: 0.9534 - mse: 0.9534 - mae: 0.7736 - val_loss: 0.9548 - val_mse: 0.9548 - val_mae: 0.7773\n",
      "Epoch 21/200\n",
      "75/75 [==============================] - 68s 905ms/step - loss: 0.9544 - mse: 0.9544 - mae: 0.7740 - val_loss: 0.9555 - val_mse: 0.9555 - val_mae: 0.7776\n",
      "Epoch 22/200\n",
      "75/75 [==============================] - 68s 904ms/step - loss: 0.9534 - mse: 0.9534 - mae: 0.7736 - val_loss: 0.9552 - val_mse: 0.9552 - val_mae: 0.7775\n",
      "Epoch 23/200\n",
      "75/75 [==============================] - 68s 904ms/step - loss: 0.9532 - mse: 0.9532 - mae: 0.7735 - val_loss: 0.9554 - val_mse: 0.9554 - val_mae: 0.7776\n",
      "Epoch 24/200\n",
      "75/75 [==============================] - 68s 904ms/step - loss: 0.9528 - mse: 0.9528 - mae: 0.7733 - val_loss: 0.9586 - val_mse: 0.9586 - val_mae: 0.7789\n",
      "Epoch 25/200\n",
      "75/75 [==============================] - 68s 904ms/step - loss: 0.9530 - mse: 0.9530 - mae: 0.7734 - val_loss: 0.9540 - val_mse: 0.9541 - val_mae: 0.7770\n",
      "Epoch 26/200\n",
      "75/75 [==============================] - 68s 905ms/step - loss: 0.9519 - mse: 0.9519 - mae: 0.7730 - val_loss: 0.9541 - val_mse: 0.9541 - val_mae: 0.7770\n",
      "Epoch 27/200\n",
      "75/75 [==============================] - 68s 904ms/step - loss: 0.9520 - mse: 0.9520 - mae: 0.7730 - val_loss: 0.9537 - val_mse: 0.9537 - val_mae: 0.7768\n",
      "Epoch 28/200\n",
      "75/75 [==============================] - 68s 904ms/step - loss: 0.9518 - mse: 0.9518 - mae: 0.7730 - val_loss: 0.9551 - val_mse: 0.9551 - val_mae: 0.7774\n",
      "Epoch 29/200\n",
      "75/75 [==============================] - 68s 904ms/step - loss: 0.9520 - mse: 0.9520 - mae: 0.7730 - val_loss: 0.9554 - val_mse: 0.9554 - val_mae: 0.7776\n",
      "Epoch 30/200\n",
      "75/75 [==============================] - 68s 905ms/step - loss: 0.9519 - mse: 0.9519 - mae: 0.7730 - val_loss: 0.9544 - val_mse: 0.9544 - val_mae: 0.7771\n",
      "Epoch 31/200\n",
      "75/75 [==============================] - 68s 904ms/step - loss: 0.9522 - mse: 0.9522 - mae: 0.7731 - val_loss: 0.9543 - val_mse: 0.9543 - val_mae: 0.7771\n",
      "Epoch 32/200\n",
      "75/75 [==============================] - 68s 905ms/step - loss: 0.9519 - mse: 0.9519 - mae: 0.7730 - val_loss: 0.9533 - val_mse: 0.9533 - val_mae: 0.7766\n",
      "Epoch 33/200\n",
      "75/75 [==============================] - 68s 904ms/step - loss: 0.9514 - mse: 0.9514 - mae: 0.7728 - val_loss: 0.9532 - val_mse: 0.9532 - val_mae: 0.7766\n",
      "Epoch 34/200\n",
      "75/75 [==============================] - 68s 904ms/step - loss: 0.9517 - mse: 0.9517 - mae: 0.7729 - val_loss: 0.9529 - val_mse: 0.9529 - val_mae: 0.7765\n",
      "Epoch 35/200\n",
      "75/75 [==============================] - 68s 904ms/step - loss: 0.9509 - mse: 0.9509 - mae: 0.7725 - val_loss: 0.9525 - val_mse: 0.9525 - val_mae: 0.7764\n",
      "Epoch 36/200\n",
      "75/75 [==============================] - 68s 904ms/step - loss: 0.9509 - mse: 0.9509 - mae: 0.7725 - val_loss: 0.9528 - val_mse: 0.9528 - val_mae: 0.7765\n",
      "Epoch 37/200\n",
      "75/75 [==============================] - 68s 904ms/step - loss: 0.9509 - mse: 0.9509 - mae: 0.7726 - val_loss: 0.9527 - val_mse: 0.9527 - val_mae: 0.7765\n",
      "Epoch 38/200\n",
      "75/75 [==============================] - 68s 905ms/step - loss: 0.9506 - mse: 0.9506 - mae: 0.7724 - val_loss: 0.9542 - val_mse: 0.9542 - val_mae: 0.7770\n",
      "Epoch 39/200\n",
      "75/75 [==============================] - 68s 905ms/step - loss: 0.9514 - mse: 0.9514 - mae: 0.7728 - val_loss: 0.9539 - val_mse: 0.9539 - val_mae: 0.7770\n",
      "Epoch 40/200\n",
      "75/75 [==============================] - 68s 904ms/step - loss: 0.9510 - mse: 0.9510 - mae: 0.7726 - val_loss: 0.9528 - val_mse: 0.9528 - val_mae: 0.7765\n",
      "Epoch 41/200\n"
     ]
    },
    {
     "name": "stdout",
     "output_type": "stream",
     "text": [
      "75/75 [==============================] - 68s 904ms/step - loss: 0.9506 - mse: 0.9506 - mae: 0.7724 - val_loss: 0.9527 - val_mse: 0.9527 - val_mae: 0.7764\n",
      "Epoch 42/200\n",
      "75/75 [==============================] - 68s 904ms/step - loss: 0.9520 - mse: 0.9520 - mae: 0.7730 - val_loss: 0.9565 - val_mse: 0.9565 - val_mae: 0.7780\n",
      "Epoch 43/200\n",
      "75/75 [==============================] - 68s 904ms/step - loss: 0.9508 - mse: 0.9508 - mae: 0.7725 - val_loss: 0.9522 - val_mse: 0.9522 - val_mae: 0.7762\n",
      "Epoch 44/200\n",
      "75/75 [==============================] - 68s 904ms/step - loss: 0.9502 - mse: 0.9502 - mae: 0.7723 - val_loss: 0.9518 - val_mse: 0.9518 - val_mae: 0.7760\n",
      "Epoch 45/200\n",
      "75/75 [==============================] - 68s 904ms/step - loss: 0.9501 - mse: 0.9501 - mae: 0.7722 - val_loss: 0.9525 - val_mse: 0.9525 - val_mae: 0.7764\n",
      "Epoch 46/200\n",
      "75/75 [==============================] - 68s 904ms/step - loss: 0.9498 - mse: 0.9498 - mae: 0.7721 - val_loss: 0.9516 - val_mse: 0.9516 - val_mae: 0.7760\n",
      "Epoch 47/200\n",
      "75/75 [==============================] - 68s 904ms/step - loss: 0.9496 - mse: 0.9496 - mae: 0.7720 - val_loss: 0.9515 - val_mse: 0.9515 - val_mae: 0.7759\n",
      "Epoch 48/200\n",
      "75/75 [==============================] - 68s 904ms/step - loss: 0.9502 - mse: 0.9502 - mae: 0.7723 - val_loss: 0.9520 - val_mse: 0.9520 - val_mae: 0.7762\n",
      "Epoch 49/200\n",
      "75/75 [==============================] - 68s 905ms/step - loss: 0.9497 - mse: 0.9497 - mae: 0.7720 - val_loss: 0.9514 - val_mse: 0.9514 - val_mae: 0.7759\n",
      "Epoch 50/200\n",
      "75/75 [==============================] - 68s 904ms/step - loss: 0.9497 - mse: 0.9497 - mae: 0.7720 - val_loss: 0.9518 - val_mse: 0.9518 - val_mae: 0.7760\n",
      "Epoch 51/200\n",
      "75/75 [==============================] - 68s 904ms/step - loss: 0.9497 - mse: 0.9497 - mae: 0.7721 - val_loss: 0.9515 - val_mse: 0.9515 - val_mae: 0.7759\n",
      "Epoch 52/200\n",
      "75/75 [==============================] - 68s 904ms/step - loss: 0.9491 - mse: 0.9491 - mae: 0.7718 - val_loss: 0.9516 - val_mse: 0.9516 - val_mae: 0.7760\n",
      "Epoch 53/200\n",
      "75/75 [==============================] - 68s 904ms/step - loss: 0.9503 - mse: 0.9503 - mae: 0.7723 - val_loss: 0.9515 - val_mse: 0.9515 - val_mae: 0.7759\n",
      "Epoch 54/200\n",
      "75/75 [==============================] - 68s 904ms/step - loss: 0.9495 - mse: 0.9495 - mae: 0.7720 - val_loss: 0.9516 - val_mse: 0.9516 - val_mae: 0.7760\n",
      "Epoch 55/200\n",
      "75/75 [==============================] - 68s 904ms/step - loss: 0.9492 - mse: 0.9492 - mae: 0.7718 - val_loss: 0.9517 - val_mse: 0.9517 - val_mae: 0.7760\n",
      "Epoch 56/200\n",
      "75/75 [==============================] - 68s 904ms/step - loss: 0.9491 - mse: 0.9491 - mae: 0.7718 - val_loss: 0.9521 - val_mse: 0.9521 - val_mae: 0.7762\n",
      "Epoch 57/200\n",
      "75/75 [==============================] - 68s 904ms/step - loss: 0.9491 - mse: 0.9491 - mae: 0.7718 - val_loss: 0.9513 - val_mse: 0.9513 - val_mae: 0.7759\n",
      "Epoch 58/200\n",
      "75/75 [==============================] - 68s 903ms/step - loss: 0.9493 - mse: 0.9493 - mae: 0.7719 - val_loss: 0.9510 - val_mse: 0.9510 - val_mae: 0.7757\n",
      "Epoch 59/200\n",
      "75/75 [==============================] - 68s 904ms/step - loss: 0.9489 - mse: 0.9489 - mae: 0.7717 - val_loss: 0.9515 - val_mse: 0.9515 - val_mae: 0.7759\n",
      "Epoch 60/200\n",
      "75/75 [==============================] - 68s 904ms/step - loss: 0.9489 - mse: 0.9489 - mae: 0.7717 - val_loss: 0.9507 - val_mse: 0.9507 - val_mae: 0.7756\n",
      "Epoch 61/200\n",
      "75/75 [==============================] - 68s 904ms/step - loss: 0.9487 - mse: 0.9487 - mae: 0.7716 - val_loss: 0.9512 - val_mse: 0.9512 - val_mae: 0.7758\n",
      "Epoch 62/200\n",
      "75/75 [==============================] - 68s 904ms/step - loss: 0.9488 - mse: 0.9488 - mae: 0.7717 - val_loss: 0.9508 - val_mse: 0.9508 - val_mae: 0.7756\n",
      "Epoch 63/200\n",
      "75/75 [==============================] - 68s 904ms/step - loss: 0.9494 - mse: 0.9494 - mae: 0.7719 - val_loss: 0.9509 - val_mse: 0.9509 - val_mae: 0.7757\n",
      "Epoch 64/200\n",
      "75/75 [==============================] - 68s 904ms/step - loss: 0.9489 - mse: 0.9489 - mae: 0.7717 - val_loss: 0.9505 - val_mse: 0.9505 - val_mae: 0.7755\n",
      "Epoch 65/200\n",
      "75/75 [==============================] - 68s 904ms/step - loss: 0.9490 - mse: 0.9490 - mae: 0.7717 - val_loss: 0.9505 - val_mse: 0.9505 - val_mae: 0.7755\n",
      "Epoch 66/200\n",
      "75/75 [==============================] - 68s 905ms/step - loss: 0.9487 - mse: 0.9487 - mae: 0.7716 - val_loss: 0.9517 - val_mse: 0.9517 - val_mae: 0.7760\n",
      "Epoch 67/200\n",
      "75/75 [==============================] - 68s 904ms/step - loss: 0.9488 - mse: 0.9488 - mae: 0.7717 - val_loss: 0.9521 - val_mse: 0.9521 - val_mae: 0.7762\n",
      "Epoch 68/200\n",
      "75/75 [==============================] - 68s 905ms/step - loss: 0.9494 - mse: 0.9494 - mae: 0.7719 - val_loss: 0.9510 - val_mse: 0.9510 - val_mae: 0.7757\n",
      "Epoch 69/200\n",
      "75/75 [==============================] - 68s 904ms/step - loss: 0.9491 - mse: 0.9491 - mae: 0.7718 - val_loss: 0.9506 - val_mse: 0.9506 - val_mae: 0.7755\n",
      "Epoch 70/200\n",
      "75/75 [==============================] - 68s 905ms/step - loss: 0.9485 - mse: 0.9485 - mae: 0.7715 - val_loss: 0.9505 - val_mse: 0.9505 - val_mae: 0.7755\n",
      "Epoch 71/200\n",
      "75/75 [==============================] - 68s 904ms/step - loss: 0.9483 - mse: 0.9483 - mae: 0.7714 - val_loss: 0.9502 - val_mse: 0.9502 - val_mae: 0.7754\n",
      "Epoch 72/200\n",
      "75/75 [==============================] - 68s 905ms/step - loss: 0.9489 - mse: 0.9489 - mae: 0.7717 - val_loss: 0.9511 - val_mse: 0.9511 - val_mae: 0.7757\n",
      "Epoch 73/200\n",
      "75/75 [==============================] - 68s 905ms/step - loss: 0.9482 - mse: 0.9482 - mae: 0.7714 - val_loss: 0.9502 - val_mse: 0.9502 - val_mae: 0.7753\n",
      "Epoch 74/200\n",
      "75/75 [==============================] - 68s 905ms/step - loss: 0.9484 - mse: 0.9484 - mae: 0.7715 - val_loss: 0.9508 - val_mse: 0.9508 - val_mae: 0.7756\n",
      "Epoch 75/200\n",
      "75/75 [==============================] - 68s 905ms/step - loss: 0.9482 - mse: 0.9482 - mae: 0.7714 - val_loss: 0.9509 - val_mse: 0.9509 - val_mae: 0.7757\n",
      "Epoch 76/200\n",
      "75/75 [==============================] - 68s 904ms/step - loss: 0.9483 - mse: 0.9483 - mae: 0.7715 - val_loss: 0.9505 - val_mse: 0.9505 - val_mae: 0.7754\n",
      "Epoch 77/200\n",
      "75/75 [==============================] - 68s 904ms/step - loss: 0.9479 - mse: 0.9479 - mae: 0.7713 - val_loss: 0.9508 - val_mse: 0.9508 - val_mae: 0.7756\n",
      "Epoch 78/200\n",
      "75/75 [==============================] - 68s 905ms/step - loss: 0.9483 - mse: 0.9483 - mae: 0.7714 - val_loss: 0.9502 - val_mse: 0.9502 - val_mae: 0.7753\n",
      "Epoch 79/200\n",
      "75/75 [==============================] - 68s 904ms/step - loss: 0.9483 - mse: 0.9483 - mae: 0.7715 - val_loss: 0.9506 - val_mse: 0.9506 - val_mae: 0.7755\n",
      "Epoch 80/200\n",
      "75/75 [==============================] - 68s 904ms/step - loss: 0.9479 - mse: 0.9479 - mae: 0.7713 - val_loss: 0.9507 - val_mse: 0.9507 - val_mae: 0.7755\n",
      "Epoch 81/200\n",
      "75/75 [==============================] - 68s 904ms/step - loss: 0.9483 - mse: 0.9483 - mae: 0.7715 - val_loss: 0.9501 - val_mse: 0.9501 - val_mae: 0.7753\n",
      "Epoch 82/200\n",
      "75/75 [==============================] - 68s 904ms/step - loss: 0.9479 - mse: 0.9479 - mae: 0.7713 - val_loss: 0.9510 - val_mse: 0.9510 - val_mae: 0.7757\n",
      "Epoch 83/200\n",
      "75/75 [==============================] - 68s 905ms/step - loss: 0.9480 - mse: 0.9480 - mae: 0.7713 - val_loss: 0.9503 - val_mse: 0.9503 - val_mae: 0.7754\n",
      "Epoch 84/200\n",
      "75/75 [==============================] - 68s 904ms/step - loss: 0.9478 - mse: 0.9478 - mae: 0.7712 - val_loss: 0.9511 - val_mse: 0.9511 - val_mae: 0.7757\n",
      "Epoch 85/200\n",
      "75/75 [==============================] - 68s 905ms/step - loss: 0.9482 - mse: 0.9482 - mae: 0.7714 - val_loss: 0.9505 - val_mse: 0.9505 - val_mae: 0.7754\n",
      "Epoch 86/200\n",
      "75/75 [==============================] - 68s 904ms/step - loss: 0.9478 - mse: 0.9478 - mae: 0.7712 - val_loss: 0.9503 - val_mse: 0.9503 - val_mae: 0.7754\n",
      "Epoch 87/200\n",
      "75/75 [==============================] - 68s 905ms/step - loss: 0.9479 - mse: 0.9479 - mae: 0.7713 - val_loss: 0.9517 - val_mse: 0.9517 - val_mae: 0.7760\n",
      "Epoch 88/200\n",
      "75/75 [==============================] - 68s 904ms/step - loss: 0.9482 - mse: 0.9482 - mae: 0.7714 - val_loss: 0.9504 - val_mse: 0.9504 - val_mae: 0.7754\n",
      "Epoch 89/200\n",
      "75/75 [==============================] - 68s 903ms/step - loss: 0.9480 - mse: 0.9480 - mae: 0.7713 - val_loss: 0.9502 - val_mse: 0.9502 - val_mae: 0.7754\n",
      "Epoch 90/200\n"
     ]
    },
    {
     "name": "stdout",
     "output_type": "stream",
     "text": [
      "75/75 [==============================] - 68s 904ms/step - loss: 0.9480 - mse: 0.9480 - mae: 0.7713 - val_loss: 0.9500 - val_mse: 0.9500 - val_mae: 0.7753\n",
      "Epoch 91/200\n",
      "75/75 [==============================] - 68s 904ms/step - loss: 0.9476 - mse: 0.9476 - mae: 0.7712 - val_loss: 0.9500 - val_mse: 0.9500 - val_mae: 0.7753\n",
      "Epoch 92/200\n",
      "75/75 [==============================] - 68s 904ms/step - loss: 0.9477 - mse: 0.9477 - mae: 0.7712 - val_loss: 0.9497 - val_mse: 0.9497 - val_mae: 0.7752\n",
      "Epoch 93/200\n",
      "75/75 [==============================] - 68s 903ms/step - loss: 0.9474 - mse: 0.9474 - mae: 0.7711 - val_loss: 0.9497 - val_mse: 0.9497 - val_mae: 0.7751\n",
      "Epoch 94/200\n",
      "75/75 [==============================] - 68s 904ms/step - loss: 0.9471 - mse: 0.9471 - mae: 0.7709 - val_loss: 0.9501 - val_mse: 0.9501 - val_mae: 0.7753\n",
      "Epoch 95/200\n",
      "75/75 [==============================] - 68s 904ms/step - loss: 0.9477 - mse: 0.9477 - mae: 0.7712 - val_loss: 0.9508 - val_mse: 0.9508 - val_mae: 0.7756\n",
      "Epoch 96/200\n",
      "75/75 [==============================] - 68s 904ms/step - loss: 0.9479 - mse: 0.9479 - mae: 0.7713 - val_loss: 0.9500 - val_mse: 0.9500 - val_mae: 0.7753\n",
      "Epoch 97/200\n",
      "75/75 [==============================] - 68s 904ms/step - loss: 0.9478 - mse: 0.9478 - mae: 0.7712 - val_loss: 0.9500 - val_mse: 0.9500 - val_mae: 0.7752\n",
      "Epoch 98/200\n",
      "75/75 [==============================] - 68s 904ms/step - loss: 0.9476 - mse: 0.9476 - mae: 0.7711 - val_loss: 0.9495 - val_mse: 0.9495 - val_mae: 0.7751\n",
      "Epoch 99/200\n",
      "75/75 [==============================] - 68s 904ms/step - loss: 0.9477 - mse: 0.9477 - mae: 0.7712 - val_loss: 0.9505 - val_mse: 0.9505 - val_mae: 0.7755\n",
      "Epoch 100/200\n",
      "75/75 [==============================] - 68s 903ms/step - loss: 0.9476 - mse: 0.9476 - mae: 0.7711 - val_loss: 0.9498 - val_mse: 0.9498 - val_mae: 0.7752\n",
      "Epoch 101/200\n",
      "75/75 [==============================] - 68s 904ms/step - loss: 0.9474 - mse: 0.9474 - mae: 0.7711 - val_loss: 0.9499 - val_mse: 0.9499 - val_mae: 0.7752\n",
      "Epoch 102/200\n",
      "75/75 [==============================] - 68s 904ms/step - loss: 0.9474 - mse: 0.9474 - mae: 0.7710 - val_loss: 0.9499 - val_mse: 0.9499 - val_mae: 0.7752\n",
      "Epoch 103/200\n",
      "75/75 [==============================] - 68s 903ms/step - loss: 0.9473 - mse: 0.9473 - mae: 0.7710 - val_loss: 0.9494 - val_mse: 0.9494 - val_mae: 0.7750\n",
      "Epoch 104/200\n",
      "75/75 [==============================] - 68s 903ms/step - loss: 0.9486 - mse: 0.9486 - mae: 0.7716 - val_loss: 0.9498 - val_mse: 0.9498 - val_mae: 0.7752\n",
      "Epoch 105/200\n",
      "75/75 [==============================] - 68s 903ms/step - loss: 0.9471 - mse: 0.9471 - mae: 0.7710 - val_loss: 0.9498 - val_mse: 0.9498 - val_mae: 0.7752\n",
      "Epoch 106/200\n",
      "75/75 [==============================] - 68s 905ms/step - loss: 0.9474 - mse: 0.9474 - mae: 0.7711 - val_loss: 0.9495 - val_mse: 0.9495 - val_mae: 0.7751\n",
      "Epoch 107/200\n",
      "75/75 [==============================] - 68s 904ms/step - loss: 0.9473 - mse: 0.9473 - mae: 0.7711 - val_loss: 0.9495 - val_mse: 0.9495 - val_mae: 0.7750\n",
      "Epoch 108/200\n",
      "75/75 [==============================] - 68s 903ms/step - loss: 0.9469 - mse: 0.9469 - mae: 0.7709 - val_loss: 0.9494 - val_mse: 0.9494 - val_mae: 0.7750\n",
      "Epoch 109/200\n",
      "75/75 [==============================] - 68s 904ms/step - loss: 0.9474 - mse: 0.9474 - mae: 0.7711 - val_loss: 0.9496 - val_mse: 0.9496 - val_mae: 0.7751\n",
      "Epoch 110/200\n",
      "75/75 [==============================] - 68s 903ms/step - loss: 0.9474 - mse: 0.9474 - mae: 0.7711 - val_loss: 0.9506 - val_mse: 0.9506 - val_mae: 0.7755\n",
      "Epoch 111/200\n",
      "75/75 [==============================] - 68s 904ms/step - loss: 0.9473 - mse: 0.9473 - mae: 0.7710 - val_loss: 0.9496 - val_mse: 0.9496 - val_mae: 0.7751\n",
      "Epoch 112/200\n",
      "75/75 [==============================] - 68s 903ms/step - loss: 0.9475 - mse: 0.9475 - mae: 0.7711 - val_loss: 0.9494 - val_mse: 0.9494 - val_mae: 0.7750\n",
      "Epoch 113/200\n",
      "75/75 [==============================] - 68s 903ms/step - loss: 0.9470 - mse: 0.9470 - mae: 0.7709 - val_loss: 0.9494 - val_mse: 0.9494 - val_mae: 0.7750\n",
      "\n",
      "Epoch 00113: ReduceLROnPlateau reducing learning rate to 0.00019999999494757503.\n",
      "Epoch 114/200\n",
      "75/75 [==============================] - 68s 905ms/step - loss: 0.9466 - mse: 0.9466 - mae: 0.7707 - val_loss: 0.9490 - val_mse: 0.9490 - val_mae: 0.7749\n",
      "Epoch 115/200\n",
      "75/75 [==============================] - 68s 905ms/step - loss: 0.9463 - mse: 0.9463 - mae: 0.7706 - val_loss: 0.9491 - val_mse: 0.9491 - val_mae: 0.7749\n",
      "Epoch 116/200\n",
      "75/75 [==============================] - 68s 905ms/step - loss: 0.9465 - mse: 0.9465 - mae: 0.7707 - val_loss: 0.9491 - val_mse: 0.9491 - val_mae: 0.7749\n",
      "Epoch 117/200\n",
      "75/75 [==============================] - 68s 905ms/step - loss: 0.9465 - mse: 0.9465 - mae: 0.7707 - val_loss: 0.9490 - val_mse: 0.9490 - val_mae: 0.7749\n",
      "Epoch 118/200\n",
      "75/75 [==============================] - 68s 905ms/step - loss: 0.9465 - mse: 0.9465 - mae: 0.7707 - val_loss: 0.9491 - val_mse: 0.9491 - val_mae: 0.7749\n",
      "Epoch 119/200\n",
      "75/75 [==============================] - 68s 905ms/step - loss: 0.9464 - mse: 0.9464 - mae: 0.7706 - val_loss: 0.9490 - val_mse: 0.9490 - val_mae: 0.7749\n",
      "Epoch 120/200\n",
      "75/75 [==============================] - 68s 905ms/step - loss: 0.9464 - mse: 0.9464 - mae: 0.7706 - val_loss: 0.9496 - val_mse: 0.9496 - val_mae: 0.7751\n",
      "Epoch 121/200\n",
      "75/75 [==============================] - 68s 906ms/step - loss: 0.9465 - mse: 0.9465 - mae: 0.7707 - val_loss: 0.9490 - val_mse: 0.9490 - val_mae: 0.7749\n",
      "Epoch 122/200\n",
      "75/75 [==============================] - 68s 905ms/step - loss: 0.9462 - mse: 0.9462 - mae: 0.7706 - val_loss: 0.9492 - val_mse: 0.9492 - val_mae: 0.7749\n",
      "Epoch 123/200\n",
      "75/75 [==============================] - 68s 906ms/step - loss: 0.9463 - mse: 0.9463 - mae: 0.7706 - val_loss: 0.9490 - val_mse: 0.9490 - val_mae: 0.7748\n",
      "Epoch 124/200\n",
      "75/75 [==============================] - 68s 905ms/step - loss: 0.9467 - mse: 0.9467 - mae: 0.7708 - val_loss: 0.9493 - val_mse: 0.9493 - val_mae: 0.7749\n",
      "Epoch 125/200\n",
      "75/75 [==============================] - 68s 905ms/step - loss: 0.9462 - mse: 0.9462 - mae: 0.7706 - val_loss: 0.9490 - val_mse: 0.9490 - val_mae: 0.7749\n",
      "Epoch 126/200\n",
      "75/75 [==============================] - 68s 906ms/step - loss: 0.9463 - mse: 0.9463 - mae: 0.7706 - val_loss: 0.9494 - val_mse: 0.9494 - val_mae: 0.7750\n",
      "Epoch 127/200\n",
      "75/75 [==============================] - 68s 905ms/step - loss: 0.9466 - mse: 0.9466 - mae: 0.7707 - val_loss: 0.9492 - val_mse: 0.9492 - val_mae: 0.7749\n",
      "Epoch 128/200\n",
      "75/75 [==============================] - 68s 905ms/step - loss: 0.9463 - mse: 0.9463 - mae: 0.7706 - val_loss: 0.9491 - val_mse: 0.9491 - val_mae: 0.7749\n",
      "Epoch 129/200\n",
      "75/75 [==============================] - 68s 905ms/step - loss: 0.9464 - mse: 0.9464 - mae: 0.7706 - val_loss: 0.9489 - val_mse: 0.9489 - val_mae: 0.7748\n",
      "Epoch 130/200\n",
      "75/75 [==============================] - 68s 906ms/step - loss: 0.9463 - mse: 0.9463 - mae: 0.7706 - val_loss: 0.9490 - val_mse: 0.9490 - val_mae: 0.7748\n",
      "Epoch 131/200\n",
      "75/75 [==============================] - 68s 905ms/step - loss: 0.9464 - mse: 0.9464 - mae: 0.7706 - val_loss: 0.9490 - val_mse: 0.9490 - val_mae: 0.7748\n",
      "Epoch 132/200\n",
      "75/75 [==============================] - 68s 906ms/step - loss: 0.9461 - mse: 0.9461 - mae: 0.7705 - val_loss: 0.9491 - val_mse: 0.9491 - val_mae: 0.7749\n",
      "Epoch 133/200\n",
      "75/75 [==============================] - 68s 905ms/step - loss: 0.9463 - mse: 0.9463 - mae: 0.7706 - val_loss: 0.9490 - val_mse: 0.9490 - val_mae: 0.7748\n",
      "Epoch 134/200\n",
      "75/75 [==============================] - 68s 906ms/step - loss: 0.9462 - mse: 0.9462 - mae: 0.7706 - val_loss: 0.9490 - val_mse: 0.9490 - val_mae: 0.7749\n",
      "Epoch 135/200\n",
      "75/75 [==============================] - 68s 905ms/step - loss: 0.9462 - mse: 0.9462 - mae: 0.7705 - val_loss: 0.9491 - val_mse: 0.9491 - val_mae: 0.7749\n",
      "Epoch 136/200\n",
      "75/75 [==============================] - 68s 906ms/step - loss: 0.9462 - mse: 0.9462 - mae: 0.7706 - val_loss: 0.9490 - val_mse: 0.9490 - val_mae: 0.7748\n",
      "Epoch 137/200\n",
      "75/75 [==============================] - 68s 905ms/step - loss: 0.9462 - mse: 0.9462 - mae: 0.7706 - val_loss: 0.9490 - val_mse: 0.9490 - val_mae: 0.7749\n",
      "Epoch 138/200\n"
     ]
    },
    {
     "name": "stdout",
     "output_type": "stream",
     "text": [
      "75/75 [==============================] - 68s 906ms/step - loss: 0.9462 - mse: 0.9462 - mae: 0.7706 - val_loss: 0.9491 - val_mse: 0.9491 - val_mae: 0.7749\n",
      "Epoch 139/200\n",
      "75/75 [==============================] - 68s 905ms/step - loss: 0.9462 - mse: 0.9462 - mae: 0.7706 - val_loss: 0.9490 - val_mse: 0.9490 - val_mae: 0.7749\n",
      "\n",
      "Epoch 00139: ReduceLROnPlateau reducing learning rate to 9.999999747378752e-05.\n",
      "Epoch 140/200\n",
      "75/75 [==============================] - 68s 905ms/step - loss: 0.9459 - mse: 0.9459 - mae: 0.7704 - val_loss: 0.9488 - val_mse: 0.9488 - val_mae: 0.7748\n",
      "Epoch 141/200\n",
      "75/75 [==============================] - 68s 906ms/step - loss: 0.9459 - mse: 0.9459 - mae: 0.7704 - val_loss: 0.9490 - val_mse: 0.9490 - val_mae: 0.7748\n",
      "Epoch 142/200\n",
      "75/75 [==============================] - 68s 906ms/step - loss: 0.9458 - mse: 0.9458 - mae: 0.7704 - val_loss: 0.9488 - val_mse: 0.9488 - val_mae: 0.7748\n",
      "Epoch 143/200\n",
      "75/75 [==============================] - 68s 905ms/step - loss: 0.9457 - mse: 0.9457 - mae: 0.7703 - val_loss: 0.9487 - val_mse: 0.9487 - val_mae: 0.7747\n",
      "Epoch 144/200\n",
      "75/75 [==============================] - 68s 906ms/step - loss: 0.9458 - mse: 0.9458 - mae: 0.7704 - val_loss: 0.9488 - val_mse: 0.9488 - val_mae: 0.7748\n",
      "Epoch 145/200\n",
      "75/75 [==============================] - 68s 905ms/step - loss: 0.9461 - mse: 0.9461 - mae: 0.7705 - val_loss: 0.9488 - val_mse: 0.9488 - val_mae: 0.7748\n",
      "Epoch 146/200\n",
      "75/75 [==============================] - 68s 906ms/step - loss: 0.9458 - mse: 0.9458 - mae: 0.7704 - val_loss: 0.9488 - val_mse: 0.9488 - val_mae: 0.7748\n",
      "Epoch 147/200\n",
      "75/75 [==============================] - 68s 906ms/step - loss: 0.9459 - mse: 0.9459 - mae: 0.7704 - val_loss: 0.9487 - val_mse: 0.9487 - val_mae: 0.7747\n",
      "Epoch 148/200\n",
      "75/75 [==============================] - 68s 905ms/step - loss: 0.9458 - mse: 0.9458 - mae: 0.7704 - val_loss: 0.9488 - val_mse: 0.9488 - val_mae: 0.7747\n",
      "Epoch 149/200\n",
      "75/75 [==============================] - 68s 906ms/step - loss: 0.9458 - mse: 0.9458 - mae: 0.7704 - val_loss: 0.9488 - val_mse: 0.9488 - val_mae: 0.7747\n",
      "Epoch 150/200\n",
      "75/75 [==============================] - 68s 905ms/step - loss: 0.9459 - mse: 0.9459 - mae: 0.7704 - val_loss: 0.9488 - val_mse: 0.9488 - val_mae: 0.7748\n",
      "Epoch 151/200\n",
      "75/75 [==============================] - 68s 906ms/step - loss: 0.9460 - mse: 0.9460 - mae: 0.7705 - val_loss: 0.9487 - val_mse: 0.9487 - val_mae: 0.7747\n",
      "Epoch 152/200\n",
      "75/75 [==============================] - 68s 906ms/step - loss: 0.9459 - mse: 0.9459 - mae: 0.7704 - val_loss: 0.9489 - val_mse: 0.9489 - val_mae: 0.7748\n",
      "Epoch 153/200\n",
      "75/75 [==============================] - 68s 906ms/step - loss: 0.9459 - mse: 0.9459 - mae: 0.7704 - val_loss: 0.9487 - val_mse: 0.9487 - val_mae: 0.7747\n",
      "Epoch 154/200\n",
      "75/75 [==============================] - 68s 905ms/step - loss: 0.9459 - mse: 0.9459 - mae: 0.7704 - val_loss: 0.9487 - val_mse: 0.9487 - val_mae: 0.7747\n",
      "Epoch 155/200\n",
      "75/75 [==============================] - 68s 905ms/step - loss: 0.9457 - mse: 0.9457 - mae: 0.7704 - val_loss: 0.9487 - val_mse: 0.9487 - val_mae: 0.7747\n",
      "Epoch 156/200\n",
      "75/75 [==============================] - 68s 905ms/step - loss: 0.9460 - mse: 0.9460 - mae: 0.7705 - val_loss: 0.9487 - val_mse: 0.9487 - val_mae: 0.7747\n",
      "Epoch 157/200\n",
      "75/75 [==============================] - 68s 905ms/step - loss: 0.9459 - mse: 0.9459 - mae: 0.7704 - val_loss: 0.9488 - val_mse: 0.9488 - val_mae: 0.7748\n",
      "Epoch 158/200\n",
      "75/75 [==============================] - 68s 905ms/step - loss: 0.9456 - mse: 0.9456 - mae: 0.7703 - val_loss: 0.9487 - val_mse: 0.9487 - val_mae: 0.7747\n",
      "Epoch 159/200\n",
      "75/75 [==============================] - 68s 905ms/step - loss: 0.9459 - mse: 0.9459 - mae: 0.7704 - val_loss: 0.9489 - val_mse: 0.9489 - val_mae: 0.7748\n",
      "Epoch 160/200\n",
      "75/75 [==============================] - 68s 905ms/step - loss: 0.9459 - mse: 0.9459 - mae: 0.7704 - val_loss: 0.9487 - val_mse: 0.9487 - val_mae: 0.7747\n",
      "Epoch 161/200\n",
      "75/75 [==============================] - 68s 906ms/step - loss: 0.9458 - mse: 0.9458 - mae: 0.7704 - val_loss: 0.9487 - val_mse: 0.9487 - val_mae: 0.7747\n",
      "\n",
      "Epoch 00161: ReduceLROnPlateau reducing learning rate to 4.999999873689376e-05.\n",
      "Epoch 162/200\n",
      "75/75 [==============================] - 68s 905ms/step - loss: 0.9458 - mse: 0.9458 - mae: 0.7703 - val_loss: 0.9487 - val_mse: 0.9487 - val_mae: 0.7747\n",
      "Epoch 163/200\n",
      "75/75 [==============================] - 68s 905ms/step - loss: 0.9456 - mse: 0.9456 - mae: 0.7703 - val_loss: 0.9487 - val_mse: 0.9487 - val_mae: 0.7747\n",
      "Epoch 164/200\n",
      "75/75 [==============================] - 68s 906ms/step - loss: 0.9457 - mse: 0.9457 - mae: 0.7703 - val_loss: 0.9487 - val_mse: 0.9487 - val_mae: 0.7747\n",
      "Epoch 165/200\n",
      "75/75 [==============================] - 68s 905ms/step - loss: 0.9457 - mse: 0.9457 - mae: 0.7703 - val_loss: 0.9487 - val_mse: 0.9487 - val_mae: 0.7747\n",
      "Epoch 166/200\n",
      "75/75 [==============================] - 68s 905ms/step - loss: 0.9456 - mse: 0.9456 - mae: 0.7703 - val_loss: 0.9486 - val_mse: 0.9486 - val_mae: 0.7747\n",
      "Epoch 167/200\n",
      "75/75 [==============================] - 68s 906ms/step - loss: 0.9456 - mse: 0.9456 - mae: 0.7703 - val_loss: 0.9486 - val_mse: 0.9486 - val_mae: 0.7747\n",
      "Epoch 168/200\n",
      "75/75 [==============================] - 68s 905ms/step - loss: 0.9456 - mse: 0.9456 - mae: 0.7703 - val_loss: 0.9486 - val_mse: 0.9486 - val_mae: 0.7747\n",
      "Epoch 169/200\n",
      "75/75 [==============================] - 68s 905ms/step - loss: 0.9455 - mse: 0.9455 - mae: 0.7703 - val_loss: 0.9486 - val_mse: 0.9486 - val_mae: 0.7747\n",
      "Epoch 170/200\n",
      "75/75 [==============================] - 68s 905ms/step - loss: 0.9456 - mse: 0.9456 - mae: 0.7703 - val_loss: 0.9486 - val_mse: 0.9486 - val_mae: 0.7747\n",
      "Epoch 171/200\n",
      "75/75 [==============================] - 68s 905ms/step - loss: 0.9457 - mse: 0.9457 - mae: 0.7703 - val_loss: 0.9487 - val_mse: 0.9487 - val_mae: 0.7747\n",
      "Epoch 172/200\n",
      "75/75 [==============================] - 68s 906ms/step - loss: 0.9456 - mse: 0.9456 - mae: 0.7703 - val_loss: 0.9487 - val_mse: 0.9487 - val_mae: 0.7747\n",
      "Epoch 173/200\n",
      "75/75 [==============================] - 68s 906ms/step - loss: 0.9456 - mse: 0.9456 - mae: 0.7703 - val_loss: 0.9487 - val_mse: 0.9487 - val_mae: 0.7747\n",
      "Epoch 174/200\n",
      "75/75 [==============================] - 68s 906ms/step - loss: 0.9458 - mse: 0.9458 - mae: 0.7704 - val_loss: 0.9486 - val_mse: 0.9486 - val_mae: 0.7747\n",
      "Epoch 175/200\n",
      "75/75 [==============================] - 68s 905ms/step - loss: 0.9455 - mse: 0.9455 - mae: 0.7703 - val_loss: 0.9488 - val_mse: 0.9488 - val_mae: 0.7748\n",
      "Epoch 176/200\n",
      "75/75 [==============================] - 68s 905ms/step - loss: 0.9456 - mse: 0.9456 - mae: 0.7703 - val_loss: 0.9487 - val_mse: 0.9487 - val_mae: 0.7747\n",
      "Epoch 177/200\n",
      "75/75 [==============================] - 68s 906ms/step - loss: 0.9456 - mse: 0.9456 - mae: 0.7703 - val_loss: 0.9486 - val_mse: 0.9486 - val_mae: 0.7747\n",
      "\n",
      "Epoch 00177: ReduceLROnPlateau reducing learning rate to 2.499999936844688e-05.\n",
      "Epoch 178/200\n",
      "75/75 [==============================] - 68s 906ms/step - loss: 0.9455 - mse: 0.9455 - mae: 0.7703 - val_loss: 0.9486 - val_mse: 0.9486 - val_mae: 0.7747\n",
      "Epoch 179/200\n",
      "75/75 [==============================] - 68s 906ms/step - loss: 0.9453 - mse: 0.9453 - mae: 0.7702 - val_loss: 0.9486 - val_mse: 0.9486 - val_mae: 0.7747\n",
      "Epoch 180/200\n",
      "75/75 [==============================] - 68s 906ms/step - loss: 0.9456 - mse: 0.9456 - mae: 0.7703 - val_loss: 0.9486 - val_mse: 0.9486 - val_mae: 0.7747\n",
      "Epoch 181/200\n",
      "75/75 [==============================] - 68s 906ms/step - loss: 0.9458 - mse: 0.9458 - mae: 0.7704 - val_loss: 0.9486 - val_mse: 0.9486 - val_mae: 0.7747\n",
      "Epoch 182/200\n",
      "75/75 [==============================] - 68s 905ms/step - loss: 0.9454 - mse: 0.9454 - mae: 0.7702 - val_loss: 0.9486 - val_mse: 0.9486 - val_mae: 0.7747\n",
      "Epoch 183/200\n",
      "75/75 [==============================] - 68s 906ms/step - loss: 0.9454 - mse: 0.9454 - mae: 0.7702 - val_loss: 0.9486 - val_mse: 0.9486 - val_mae: 0.7747\n",
      "Epoch 184/200\n",
      "75/75 [==============================] - 68s 906ms/step - loss: 0.9455 - mse: 0.9455 - mae: 0.7703 - val_loss: 0.9486 - val_mse: 0.9486 - val_mae: 0.7747\n",
      "Epoch 185/200\n"
     ]
    },
    {
     "name": "stdout",
     "output_type": "stream",
     "text": [
      "75/75 [==============================] - 68s 906ms/step - loss: 0.9456 - mse: 0.9456 - mae: 0.7703 - val_loss: 0.9485 - val_mse: 0.9485 - val_mae: 0.7747\n",
      "Epoch 186/200\n",
      "75/75 [==============================] - 68s 906ms/step - loss: 0.9453 - mse: 0.9453 - mae: 0.7702 - val_loss: 0.9486 - val_mse: 0.9486 - val_mae: 0.7747\n",
      "Epoch 187/200\n",
      "75/75 [==============================] - 68s 905ms/step - loss: 0.9455 - mse: 0.9455 - mae: 0.7702 - val_loss: 0.9485 - val_mse: 0.9485 - val_mae: 0.7747\n",
      "Epoch 188/200\n",
      "75/75 [==============================] - 68s 905ms/step - loss: 0.9454 - mse: 0.9454 - mae: 0.7702 - val_loss: 0.9486 - val_mse: 0.9486 - val_mae: 0.7747\n",
      "Epoch 189/200\n",
      "75/75 [==============================] - 68s 906ms/step - loss: 0.9454 - mse: 0.9454 - mae: 0.7702 - val_loss: 0.9486 - val_mse: 0.9486 - val_mae: 0.7747\n",
      "Epoch 190/200\n",
      "75/75 [==============================] - 68s 905ms/step - loss: 0.9455 - mse: 0.9455 - mae: 0.7702 - val_loss: 0.9486 - val_mse: 0.9486 - val_mae: 0.7747\n",
      "Epoch 191/200\n",
      "75/75 [==============================] - 68s 906ms/step - loss: 0.9455 - mse: 0.9455 - mae: 0.7703 - val_loss: 0.9486 - val_mse: 0.9486 - val_mae: 0.7747\n",
      "Epoch 192/200\n",
      "75/75 [==============================] - 68s 906ms/step - loss: 0.9454 - mse: 0.9454 - mae: 0.7702 - val_loss: 0.9486 - val_mse: 0.9486 - val_mae: 0.7747\n",
      "Epoch 193/200\n",
      "75/75 [==============================] - 68s 906ms/step - loss: 0.9456 - mse: 0.9456 - mae: 0.7703 - val_loss: 0.9485 - val_mse: 0.9485 - val_mae: 0.7747\n",
      "Epoch 194/200\n",
      "75/75 [==============================] - 68s 906ms/step - loss: 0.9455 - mse: 0.9455 - mae: 0.7703 - val_loss: 0.9486 - val_mse: 0.9486 - val_mae: 0.7747\n",
      "Epoch 195/200\n",
      "75/75 [==============================] - 68s 905ms/step - loss: 0.9454 - mse: 0.9454 - mae: 0.7702 - val_loss: 0.9486 - val_mse: 0.9486 - val_mae: 0.7747\n",
      "Epoch 196/200\n",
      "75/75 [==============================] - 68s 905ms/step - loss: 0.9453 - mse: 0.9453 - mae: 0.7702 - val_loss: 0.9485 - val_mse: 0.9485 - val_mae: 0.7747\n",
      "Epoch 197/200\n",
      "75/75 [==============================] - 68s 906ms/step - loss: 0.9452 - mse: 0.9452 - mae: 0.7702 - val_loss: 0.9486 - val_mse: 0.9486 - val_mae: 0.7747\n",
      "Epoch 198/200\n",
      "75/75 [==============================] - 68s 906ms/step - loss: 0.9454 - mse: 0.9454 - mae: 0.7702 - val_loss: 0.9486 - val_mse: 0.9486 - val_mae: 0.7747\n",
      "Epoch 199/200\n",
      "75/75 [==============================] - 68s 906ms/step - loss: 0.9456 - mse: 0.9456 - mae: 0.7703 - val_loss: 0.9486 - val_mse: 0.9486 - val_mae: 0.7747\n",
      "Epoch 200/200\n",
      "75/75 [==============================] - 68s 906ms/step - loss: 0.9454 - mse: 0.9454 - mae: 0.7702 - val_loss: 0.9486 - val_mse: 0.9486 - val_mae: 0.7747\n",
      "\n",
      "Loading network weights from 'weights_best.h5'.\n"
     ]
    }
   ],
   "source": [
    "history = model.train(X, Y, (X_val, Y_val))"
   ]
  },
  {
   "cell_type": "code",
   "execution_count": 10,
   "metadata": {},
   "outputs": [
    {
     "name": "stdout",
     "output_type": "stream",
     "text": [
      "dict_keys(['val_loss', 'val_mse', 'val_mae', 'loss', 'mse', 'mae', 'lr'])\n"
     ]
    }
   ],
   "source": [
    "print(history.history.keys())"
   ]
  },
  {
   "cell_type": "code",
   "execution_count": 11,
   "metadata": {},
   "outputs": [
    {
     "data": {
      "image/png": "[encoded data removed]",
      "text/plain": [
       "<Figure size 1152x360 with 1 Axes>"
      ]
     },
     "metadata": {
      "needs_background": "light"
     },
     "output_type": "display_data"
    }
   ],
   "source": [
    "from matplotlib import pyplot as plt\n",
    "plt.figure(figsize=(16,5))\n",
    "plot_history(history, 'loss', 'val_loss');"
   ]
  },
  {
   "cell_type": "code",
   "execution_count": null,
   "metadata": {},
   "outputs": [],
   "source": [
    "# You can export the tensorflow model and use it with the CSBDeep Fiji-Plugin\n",
    "# model.export_TF()"
   ]
  }
 ],
 "metadata": {
  "kernelspec": {
   "display_name": "Python [conda env:cryocare]",
   "language": "python",
   "name": "conda-env-cryocare-py"
  },
  "language_info": {
   "codemirror_mode": {
    "name": "ipython",
    "version": 3
   },
   "file_extension": ".py",
   "mimetype": "text/x-python",
   "name": "python",
   "nbconvert_exporter": "python",
   "pygments_lexer": "ipython3",
   "version": "3.7.6"
  },
  "toc": {
   "base_numbering": 1,
   "nav_menu": {},
   "number_sections": true,
   "sideBar": true,
   "skip_h1_title": false,
   "title_cell": "Table of Contents",
   "title_sidebar": "Contents",
   "toc_cell": false,
   "toc_position": {},
   "toc_section_display": true,
   "toc_window_display": false
  },
  "varInspector": {
   "cols": {
    "lenName": 16,
    "lenType": 16,
    "lenVar": 40
   },
   "kernels_config": {
    "python": {
     "delete_cmd_postfix": "",
     "delete_cmd_prefix": "del ",
     "library": "var_list.py",
     "varRefreshCmd": "print(var_dic_list())"
    },
    "r": {
     "delete_cmd_postfix": ") ",
     "delete_cmd_prefix": "rm(",
     "library": "var_list.r",
     "varRefreshCmd": "cat(var_dic_list()) "
    }
   },
   "types_to_exclude": [
    "module",
    "function",
    "builtin_function_or_method",
    "instance",
    "_Feature"
   ],
   "window_display": false
  }
 },
 "nbformat": 4,
 "nbformat_minor": 2
}
